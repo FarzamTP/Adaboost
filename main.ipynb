{
 "cells": [
  {
   "cell_type": "markdown",
   "metadata": {},
   "source": [
    "# Adaboost\n",
    "* ***AdaBoost***, short for Adaptive Boosting, is a machine learning meta-algorithm formulated by Yoav Freund and Robert Schapire, who won the 2003 Gödel Prize for their work. It can be used in conjunction with many other types of learning algorithms to improve performance.\n",
    "* Three main iedas behind the Adaboost algorithm are:\n",
    "    * ***Adaboost*** combines a lot of \"***weak learners***\" to make classifications. the weak learners are almost away ***stumps***.\n",
    "    * Some stumps get more say in the classification more than others.\n",
    "    * Each stump is made by taking the previous stump's mistakes into account.\n"
   ]
  },
  {
   "cell_type": "markdown",
   "metadata": {},
   "source": [
    "## Imports\n",
    "* `Pandas` for reading csv file.\n",
    "* `Matplotlib.pyplot` to draw plots.\n",
    "* `Numpy` to work with numbers and math functions like: log\n",
    "* `Random` to generate random numbers"
   ]
  },
  {
   "cell_type": "code",
   "execution_count": 1,
   "metadata": {},
   "outputs": [],
   "source": [
    "import numpy as np\n",
    "import matplotlib.pyplot as plt\n",
    "import pandas as pd\n",
    "import random"
   ]
  },
  {
   "cell_type": "code",
   "execution_count": 2,
   "metadata": {},
   "outputs": [
    {
     "data": {
      "text/html": [
       "<div>\n",
       "<style scoped>\n",
       "    .dataframe tbody tr th:only-of-type {\n",
       "        vertical-align: middle;\n",
       "    }\n",
       "\n",
       "    .dataframe tbody tr th {\n",
       "        vertical-align: top;\n",
       "    }\n",
       "\n",
       "    .dataframe thead th {\n",
       "        text-align: right;\n",
       "    }\n",
       "</style>\n",
       "<table border=\"1\" class=\"dataframe\">\n",
       "  <thead>\n",
       "    <tr style=\"text-align: right;\">\n",
       "      <th></th>\n",
       "      <th>Chest Pain</th>\n",
       "      <th>Blocked Arteries</th>\n",
       "      <th>Patient Weight</th>\n",
       "      <th>Heart Disease</th>\n",
       "    </tr>\n",
       "  </thead>\n",
       "  <tbody>\n",
       "    <tr>\n",
       "      <th>0</th>\n",
       "      <td>YES</td>\n",
       "      <td>YES</td>\n",
       "      <td>205</td>\n",
       "      <td>YES</td>\n",
       "    </tr>\n",
       "    <tr>\n",
       "      <th>1</th>\n",
       "      <td>NO</td>\n",
       "      <td>YES</td>\n",
       "      <td>180</td>\n",
       "      <td>YES</td>\n",
       "    </tr>\n",
       "    <tr>\n",
       "      <th>2</th>\n",
       "      <td>YES</td>\n",
       "      <td>NO</td>\n",
       "      <td>210</td>\n",
       "      <td>YES</td>\n",
       "    </tr>\n",
       "    <tr>\n",
       "      <th>3</th>\n",
       "      <td>YES</td>\n",
       "      <td>YES</td>\n",
       "      <td>167</td>\n",
       "      <td>YES</td>\n",
       "    </tr>\n",
       "    <tr>\n",
       "      <th>4</th>\n",
       "      <td>NO</td>\n",
       "      <td>YES</td>\n",
       "      <td>156</td>\n",
       "      <td>NO</td>\n",
       "    </tr>\n",
       "    <tr>\n",
       "      <th>5</th>\n",
       "      <td>NO</td>\n",
       "      <td>YES</td>\n",
       "      <td>125</td>\n",
       "      <td>NO</td>\n",
       "    </tr>\n",
       "    <tr>\n",
       "      <th>6</th>\n",
       "      <td>YES</td>\n",
       "      <td>NO</td>\n",
       "      <td>168</td>\n",
       "      <td>NO</td>\n",
       "    </tr>\n",
       "    <tr>\n",
       "      <th>7</th>\n",
       "      <td>YES</td>\n",
       "      <td>YES</td>\n",
       "      <td>172</td>\n",
       "      <td>NO</td>\n",
       "    </tr>\n",
       "  </tbody>\n",
       "</table>\n",
       "</div>"
      ],
      "text/plain": [
       "  Chest Pain Blocked Arteries  Patient Weight Heart Disease\n",
       "0        YES              YES             205           YES\n",
       "1         NO              YES             180           YES\n",
       "2        YES               NO             210           YES\n",
       "3        YES              YES             167           YES\n",
       "4         NO              YES             156            NO\n",
       "5         NO              YES             125            NO\n",
       "6        YES               NO             168            NO\n",
       "7        YES              YES             172            NO"
      ]
     },
     "execution_count": 2,
     "metadata": {},
     "output_type": "execute_result"
    }
   ],
   "source": [
    "df = pd.read_csv('./dataset/data.csv')\n",
    "df"
   ]
  },
  {
   "cell_type": "markdown",
   "metadata": {},
   "source": [
    "### Inserting Samples Weight Column\n",
    "* Sample Weight represent the samples weight that will effect the further classifications."
   ]
  },
  {
   "cell_type": "code",
   "execution_count": 3,
   "metadata": {},
   "outputs": [
    {
     "data": {
      "text/html": [
       "<div>\n",
       "<style scoped>\n",
       "    .dataframe tbody tr th:only-of-type {\n",
       "        vertical-align: middle;\n",
       "    }\n",
       "\n",
       "    .dataframe tbody tr th {\n",
       "        vertical-align: top;\n",
       "    }\n",
       "\n",
       "    .dataframe thead th {\n",
       "        text-align: right;\n",
       "    }\n",
       "</style>\n",
       "<table border=\"1\" class=\"dataframe\">\n",
       "  <thead>\n",
       "    <tr style=\"text-align: right;\">\n",
       "      <th></th>\n",
       "      <th>Chest Pain</th>\n",
       "      <th>Blocked Arteries</th>\n",
       "      <th>Patient Weight</th>\n",
       "      <th>Heart Disease</th>\n",
       "      <th>Sample Weight</th>\n",
       "    </tr>\n",
       "  </thead>\n",
       "  <tbody>\n",
       "    <tr>\n",
       "      <th>0</th>\n",
       "      <td>YES</td>\n",
       "      <td>YES</td>\n",
       "      <td>205</td>\n",
       "      <td>YES</td>\n",
       "      <td>0.125</td>\n",
       "    </tr>\n",
       "    <tr>\n",
       "      <th>1</th>\n",
       "      <td>NO</td>\n",
       "      <td>YES</td>\n",
       "      <td>180</td>\n",
       "      <td>YES</td>\n",
       "      <td>0.125</td>\n",
       "    </tr>\n",
       "    <tr>\n",
       "      <th>2</th>\n",
       "      <td>YES</td>\n",
       "      <td>NO</td>\n",
       "      <td>210</td>\n",
       "      <td>YES</td>\n",
       "      <td>0.125</td>\n",
       "    </tr>\n",
       "    <tr>\n",
       "      <th>3</th>\n",
       "      <td>YES</td>\n",
       "      <td>YES</td>\n",
       "      <td>167</td>\n",
       "      <td>YES</td>\n",
       "      <td>0.125</td>\n",
       "    </tr>\n",
       "    <tr>\n",
       "      <th>4</th>\n",
       "      <td>NO</td>\n",
       "      <td>YES</td>\n",
       "      <td>156</td>\n",
       "      <td>NO</td>\n",
       "      <td>0.125</td>\n",
       "    </tr>\n",
       "    <tr>\n",
       "      <th>5</th>\n",
       "      <td>NO</td>\n",
       "      <td>YES</td>\n",
       "      <td>125</td>\n",
       "      <td>NO</td>\n",
       "      <td>0.125</td>\n",
       "    </tr>\n",
       "    <tr>\n",
       "      <th>6</th>\n",
       "      <td>YES</td>\n",
       "      <td>NO</td>\n",
       "      <td>168</td>\n",
       "      <td>NO</td>\n",
       "      <td>0.125</td>\n",
       "    </tr>\n",
       "    <tr>\n",
       "      <th>7</th>\n",
       "      <td>YES</td>\n",
       "      <td>YES</td>\n",
       "      <td>172</td>\n",
       "      <td>NO</td>\n",
       "      <td>0.125</td>\n",
       "    </tr>\n",
       "  </tbody>\n",
       "</table>\n",
       "</div>"
      ],
      "text/plain": [
       "  Chest Pain Blocked Arteries  Patient Weight Heart Disease  Sample Weight\n",
       "0        YES              YES             205           YES          0.125\n",
       "1         NO              YES             180           YES          0.125\n",
       "2        YES               NO             210           YES          0.125\n",
       "3        YES              YES             167           YES          0.125\n",
       "4         NO              YES             156            NO          0.125\n",
       "5         NO              YES             125            NO          0.125\n",
       "6        YES               NO             168            NO          0.125\n",
       "7        YES              YES             172            NO          0.125"
      ]
     },
     "execution_count": 3,
     "metadata": {},
     "output_type": "execute_result"
    }
   ],
   "source": [
    "default_value = float(1 / len(df.get('Chest Pain')))\n",
    "df.insert(4, \"Sample Weight\", default_value)\n",
    "df"
   ]
  },
  {
   "cell_type": "code",
   "execution_count": 4,
   "metadata": {},
   "outputs": [],
   "source": [
    "class Stump():\n",
    "    def __init__(self, df, col_name):\n",
    "        self.is_chosen_stump = False\n",
    "        self.df = df\n",
    "        self.col_name = col_name\n",
    "        self.incorrect_guess_row_indices = []\n",
    "        self.TP, self.TN, self.FP, self.FN = self.__compute_elements()\n",
    "        self.Gini_index = self.__compute_Gini_index()\n",
    "        self.total_error = self.__compute_total_error()\n",
    "        self.impact = self.__compute_impact(self.total_error)\n",
    "        \n",
    "    def __compute_elements(self):\n",
    "        '''This function comptes FN, FP, TP, and TN'''\n",
    "        col_data = self.df.get(self.col_name)\n",
    "        result_data = self.df.get('Heart Disease')\n",
    "\n",
    "        TP, TN, FP, FN = 0, 0, 0, 0\n",
    "        \n",
    "        for idx, i in enumerate(col_data):\n",
    "            if self.col_name != 'Patient Weight':\n",
    "                if i == 'YES':\n",
    "                    if result_data[idx] == 'YES':\n",
    "                        TP += 1\n",
    "                    else:\n",
    "                        TN += 1\n",
    "                        self.incorrect_guess_row_indices.append(idx)\n",
    "                else:\n",
    "                    if result_data[idx] == 'NO':\n",
    "                        FN += 1\n",
    "                    else:\n",
    "                        self.incorrect_guess_row_indices.append(idx)\n",
    "                        FP += 1\n",
    "            else:\n",
    "                if i > 176:\n",
    "                    if result_data[idx] == 'YES':\n",
    "                        TP += 1\n",
    "                    else:\n",
    "                        TN += 1\n",
    "                        self.incorrect_guess_row_indices.append(idx)\n",
    "                else:\n",
    "                    if result_data[idx] == 'YES':\n",
    "                        FN += 1\n",
    "                        self.incorrect_guess_row_indices.append(idx)\n",
    "                    else:\n",
    "                        FP += 1\n",
    "                        \n",
    "        return TP, TN, FP, FN\n",
    "    \n",
    "    def __compute_Gini_index(self):\n",
    "        '''This function computes Gini index according to tree values and returns Gini'''\n",
    "        true_prob_yes = float(self.TP / (self.TP + self.TN))\n",
    "        true_prob_no = float(self.TN / (self.TP + self.TN))\n",
    "        true_Gini_index = 1 - (true_prob_yes ** 2) - (true_prob_no ** 2)\n",
    "        \n",
    "        false_prob_yes = float(self.FP / (self.FP + self.FN))\n",
    "        false_prob_no = float(self.FN / (self.FP + self.FN))\n",
    "        false_Gini_index = 1 - (false_prob_yes ** 2) - (false_prob_no ** 2)\n",
    "        \n",
    "        Gini_index = (true_Gini_index * (self.TP + self.TN) + false_Gini_index *\n",
    "                      (self.FP + self.FN)) / ((self.TP + self.TN) + (self.FP + self.FN)) \n",
    "        return round(Gini_index, 2)\n",
    "    \n",
    "    def __compute_total_error(self):\n",
    "        '''This function computes total error according to the stump.\n",
    "        if the stump prediction is different that the original data,\n",
    "        it will be counted as a error.'''\n",
    "        total_error = 0\n",
    "        for idx in self.incorrect_guess_row_indices:\n",
    "            total_error += self.df.get('Sample Weight')[idx]\n",
    "        return total_error\n",
    "    \n",
    "    def __compute_impact(self, total_error):\n",
    "        total_error += 0.001\n",
    "        return round((1 / 2) * np.log((1 - total_error) / total_error), 2)\n",
    "    \n",
    "    def __normalize_sample_weights_column(self):\n",
    "        total_sum = df.get('Sample Weight').sum()\n",
    "        df['Sample Weight'] = round(df.get(\"Sample Weight\") / total_sum, 2)\n",
    "        return\n",
    "    \n",
    "    def update_stupms_samples_weights(self):\n",
    "        for idx in range(len(df.get('Sample Weight'))):\n",
    "            old_weight = df.get('Sample Weight')[idx]\n",
    "            if idx in self.incorrect_guess_row_indices:\n",
    "                new_weight = round(np.exp(self.impact) * old_weight, 2)\n",
    "                df['Sample Weight'][idx] = new_weight\n",
    "            else:\n",
    "                new_weight = round(np.exp(-self.impact) * old_weight, 2)\n",
    "                df['Sample Weight'][idx] = new_weight\n",
    "                \n",
    "        self.__normalize_sample_weights_column()\n",
    "        return"
   ]
  },
  {
   "cell_type": "code",
   "execution_count": 5,
   "metadata": {},
   "outputs": [
    {
     "name": "stdout",
     "output_type": "stream",
     "text": [
      "Column \"Chest Pain\" has Gini index: 0.47\n",
      "Column \"Blocked Arteries\" has Gini index: 0.5\n",
      "Column \"Patient Weight\" has Gini index: 0.2\n"
     ]
    }
   ],
   "source": [
    "features_columns = [\"Chest Pain\", \"Blocked Arteries\", \"Patient Weight\"]\n",
    "Gini_indices = []\n",
    "stumpts_list = []\n",
    "\n",
    "for col_name in features_columns:\n",
    "    s = Stump(df, col_name)\n",
    "    stumpts_list.append(s)\n",
    "    Gini_index = s.Gini_index\n",
    "    Gini_indices.append(Gini_index)\n",
    "    print(f'Column \"{col_name}\" has Gini index: {Gini_index}')"
   ]
  },
  {
   "cell_type": "markdown",
   "metadata": {},
   "source": [
    "### Selecting the lowest Gini index\n",
    "* Now that the Gini indices are computed, the feature that separates the data the best will be selected as the best stump."
   ]
  },
  {
   "cell_type": "code",
   "execution_count": 6,
   "metadata": {},
   "outputs": [
    {
     "name": "stdout",
     "output_type": "stream",
     "text": [
      "Minimum Gini index belongs to 'Patient Weight' with index: 0.2, So the first stump will be it.\n"
     ]
    }
   ],
   "source": [
    "min_Gini_index = min(Gini_indices)\n",
    "min_Gini_index_col_name = features_columns[Gini_indices.index(min_Gini_index)]\n",
    "print(f\"Minimum Gini index belongs to '{min_Gini_index_col_name}' with index: {min_Gini_index}, So the first stump will be it.\")"
   ]
  },
  {
   "cell_type": "code",
   "execution_count": 7,
   "metadata": {},
   "outputs": [],
   "source": [
    "def find_chosen_stump(stumpts_list, min_Gini_index_col_name):\n",
    "    for stump in stumpts_list:\n",
    "        if stump.col_name == min_Gini_index_col_name:\n",
    "            return stump        "
   ]
  },
  {
   "cell_type": "code",
   "execution_count": 8,
   "metadata": {},
   "outputs": [],
   "source": [
    "chosen_stump = find_chosen_stump(stumpts_list, min_Gini_index_col_name)\n",
    "chosen_stump.is_chosen_stump = True"
   ]
  },
  {
   "cell_type": "markdown",
   "metadata": {},
   "source": [
    "### Misclassified Data According to The First Stump"
   ]
  },
  {
   "cell_type": "code",
   "execution_count": 9,
   "metadata": {},
   "outputs": [
    {
     "data": {
      "text/plain": [
       "0.125"
      ]
     },
     "execution_count": 9,
     "metadata": {},
     "output_type": "execute_result"
    }
   ],
   "source": [
    "chosen_stump.total_error"
   ]
  },
  {
   "cell_type": "markdown",
   "metadata": {},
   "source": [
    "### Stump Impact\n",
    "* As now the stump is chosen, It's needed to compute the stump impact. for that stupm's total error is required.\n",
    "    > $$ Impact = \\frac{1}{2}Log^{(\\frac{1 - Total-Error}{Total-Error})}$$\n",
    "    \n",
    "* The total error is the total sample weights of the given dataset that the stump classified it wrong. So that it's impact will be decreased.\n",
    "\n",
    "* The impact plot is shaped as below:\n",
    "\n",
    "![impact plot](./plots/impact_plot.png)"
   ]
  },
  {
   "cell_type": "markdown",
   "metadata": {},
   "source": [
    "### Impact Plot"
   ]
  },
  {
   "cell_type": "code",
   "execution_count": 10,
   "metadata": {},
   "outputs": [],
   "source": [
    "def impact(total_error):\n",
    "    return (1 / 2) * np.log((1 - total_error) / total_error)\n",
    "\n",
    "def plot_impact():\n",
    "    x = np.asarray(list(range(1, 1000)))\n",
    "    x = x / 1000.0\n",
    "    y = impact(x)\n",
    "    plt.title(\"Impact Function Plot\")\n",
    "    plt.plot(x, y)\n",
    "    plt.xlabel(\"Total Error\")\n",
    "    plt.ylabel(\"Impact\")\n",
    "    plt.savefig('./plots/impact_plot.png')\n",
    "    return"
   ]
  },
  {
   "cell_type": "code",
   "execution_count": 11,
   "metadata": {},
   "outputs": [],
   "source": [
    "# plot_impact()"
   ]
  },
  {
   "cell_type": "markdown",
   "metadata": {},
   "source": [
    "### Chosen Stump Impact\n",
    "* Now that the total error is calculated for the first stump, it's time to calculate its impact."
   ]
  },
  {
   "cell_type": "code",
   "execution_count": 12,
   "metadata": {},
   "outputs": [
    {
     "name": "stdout",
     "output_type": "stream",
     "text": [
      "Chosen stump impact is: 0.97\n"
     ]
    }
   ],
   "source": [
    "chosen_stump_impact = chosen_stump.impact\n",
    "print(f\"Chosen stump impact is: {chosen_stump_impact}\")"
   ]
  },
  {
   "cell_type": "markdown",
   "metadata": {},
   "source": [
    "#### Other Stumps Impact\n",
    "* Altough we know that the first stump has the most impact, computing other stump's impact would help us illustrate the concept ot impacts better."
   ]
  },
  {
   "cell_type": "code",
   "execution_count": 13,
   "metadata": {},
   "outputs": [
    {
     "name": "stdout",
     "output_type": "stream",
     "text": [
      "Stump Chest Pain has total error: 0.375 and impact: 0.25\n",
      "Stump Blocked Arteries has total error: 0.5 and impact: -0.0\n"
     ]
    }
   ],
   "source": [
    "for stump in stumpts_list:\n",
    "    if stump != chosen_stump:\n",
    "        print(f\"Stump {stump.col_name} has total error: {stump.total_error} and impact: {stump.impact}\")"
   ]
  },
  {
   "cell_type": "markdown",
   "metadata": {},
   "source": [
    "### New Sample Weights\n",
    "* Now we know the Sample Weight for the incorrectly classified samples are used to determine the Impact each stump gets.\n",
    "* At first step all the sample weights were the same, that means we weren't emphasizing on any sample, But now that the we know the misclassified data and calculated the impact, for further steps we will use updated sample weights. So:\n",
    "\n",
    "* Increase the sample weight for the sample that was incorrectly classified. \n",
    "    > $$ Weight_{(new)} = Weight_{(old)} * e^{(impact)} $$\n",
    "* Decrease the samples weight for the samples that were correctly classified.\n",
    "    > $$ Weight_{(new)} = Weight_{(old)} * e^{(-impact)} $$\n",
    "\n",
    "* Update Chosen Stump Weight Plot:\n",
    "\n",
    "![chosen_update weight plot](./plots/update_chosen.png)\n",
    "\n",
    "\n",
    "* Update Not Chosen Stump Weight Plot:\n",
    "\n",
    "![none_chosen_update weight plot](./plots/update_none_chosen.png)"
   ]
  },
  {
   "cell_type": "code",
   "execution_count": 14,
   "metadata": {},
   "outputs": [],
   "source": [
    "def chosen_stump_update_weight(impact):\n",
    "    return np.exp(impact) * 1\n",
    "\n",
    "def unchosen_stump_update_weight(impact):\n",
    "    return np.exp(-impact) * 1\n",
    "\n",
    "def plot_update_weights():\n",
    "    x = np.asarray(list(range(1, 1000)))\n",
    "    x = x / 250.0\n",
    "    y_chosen = chosen_stump_update_weight(x)\n",
    "    y_not_chosen = unchosen_stump_update_weight(x)\n",
    "    plt.plot(x, y_chosen)\n",
    "    plt.xlabel(\"Impact with constant Old Weight 1\")\n",
    "    plt.ylabel(\"New Weight (Chosen Stump)\")\n",
    "    plt.savefig('./plots/update_chosen.png')\n",
    "    plt.show()\n",
    "    \n",
    "    plt.plot(x, y_not_chosen)\n",
    "    plt.xlabel(\"Impact with constant Old Weight 1\")\n",
    "    plt.ylabel(\"New Weight (not-Chosen Stump)\")\n",
    "    plt.savefig('./plots/update_none_chosen.png')\n",
    "    plt.show()\n",
    "    return"
   ]
  },
  {
   "cell_type": "code",
   "execution_count": 15,
   "metadata": {},
   "outputs": [],
   "source": [
    "# plot_update_weights()"
   ]
  },
  {
   "cell_type": "code",
   "execution_count": 16,
   "metadata": {},
   "outputs": [
    {
     "name": "stderr",
     "output_type": "stream",
     "text": [
      "/usr/local/lib/python3.6/dist-packages/ipykernel_launcher.py:89: SettingWithCopyWarning: \n",
      "A value is trying to be set on a copy of a slice from a DataFrame\n",
      "\n",
      "See the caveats in the documentation: https://pandas.pydata.org/pandas-docs/stable/user_guide/indexing.html#returning-a-view-versus-a-copy\n",
      "/usr/local/lib/python3.6/dist-packages/ipykernel_launcher.py:86: SettingWithCopyWarning: \n",
      "A value is trying to be set on a copy of a slice from a DataFrame\n",
      "\n",
      "See the caveats in the documentation: https://pandas.pydata.org/pandas-docs/stable/user_guide/indexing.html#returning-a-view-versus-a-copy\n"
     ]
    }
   ],
   "source": [
    "chosen_stump.update_stupms_samples_weights()"
   ]
  },
  {
   "cell_type": "markdown",
   "metadata": {},
   "source": [
    "### Updated Data"
   ]
  },
  {
   "cell_type": "code",
   "execution_count": 17,
   "metadata": {},
   "outputs": [
    {
     "data": {
      "text/html": [
       "<div>\n",
       "<style scoped>\n",
       "    .dataframe tbody tr th:only-of-type {\n",
       "        vertical-align: middle;\n",
       "    }\n",
       "\n",
       "    .dataframe tbody tr th {\n",
       "        vertical-align: top;\n",
       "    }\n",
       "\n",
       "    .dataframe thead th {\n",
       "        text-align: right;\n",
       "    }\n",
       "</style>\n",
       "<table border=\"1\" class=\"dataframe\">\n",
       "  <thead>\n",
       "    <tr style=\"text-align: right;\">\n",
       "      <th></th>\n",
       "      <th>Chest Pain</th>\n",
       "      <th>Blocked Arteries</th>\n",
       "      <th>Patient Weight</th>\n",
       "      <th>Heart Disease</th>\n",
       "      <th>Sample Weight</th>\n",
       "    </tr>\n",
       "  </thead>\n",
       "  <tbody>\n",
       "    <tr>\n",
       "      <th>0</th>\n",
       "      <td>YES</td>\n",
       "      <td>YES</td>\n",
       "      <td>205</td>\n",
       "      <td>YES</td>\n",
       "      <td>0.07</td>\n",
       "    </tr>\n",
       "    <tr>\n",
       "      <th>1</th>\n",
       "      <td>NO</td>\n",
       "      <td>YES</td>\n",
       "      <td>180</td>\n",
       "      <td>YES</td>\n",
       "      <td>0.07</td>\n",
       "    </tr>\n",
       "    <tr>\n",
       "      <th>2</th>\n",
       "      <td>YES</td>\n",
       "      <td>NO</td>\n",
       "      <td>210</td>\n",
       "      <td>YES</td>\n",
       "      <td>0.07</td>\n",
       "    </tr>\n",
       "    <tr>\n",
       "      <th>3</th>\n",
       "      <td>YES</td>\n",
       "      <td>YES</td>\n",
       "      <td>167</td>\n",
       "      <td>YES</td>\n",
       "      <td>0.49</td>\n",
       "    </tr>\n",
       "    <tr>\n",
       "      <th>4</th>\n",
       "      <td>NO</td>\n",
       "      <td>YES</td>\n",
       "      <td>156</td>\n",
       "      <td>NO</td>\n",
       "      <td>0.07</td>\n",
       "    </tr>\n",
       "    <tr>\n",
       "      <th>5</th>\n",
       "      <td>NO</td>\n",
       "      <td>YES</td>\n",
       "      <td>125</td>\n",
       "      <td>NO</td>\n",
       "      <td>0.07</td>\n",
       "    </tr>\n",
       "    <tr>\n",
       "      <th>6</th>\n",
       "      <td>YES</td>\n",
       "      <td>NO</td>\n",
       "      <td>168</td>\n",
       "      <td>NO</td>\n",
       "      <td>0.07</td>\n",
       "    </tr>\n",
       "    <tr>\n",
       "      <th>7</th>\n",
       "      <td>YES</td>\n",
       "      <td>YES</td>\n",
       "      <td>172</td>\n",
       "      <td>NO</td>\n",
       "      <td>0.07</td>\n",
       "    </tr>\n",
       "  </tbody>\n",
       "</table>\n",
       "</div>"
      ],
      "text/plain": [
       "  Chest Pain Blocked Arteries  Patient Weight Heart Disease  Sample Weight\n",
       "0        YES              YES             205           YES           0.07\n",
       "1         NO              YES             180           YES           0.07\n",
       "2        YES               NO             210           YES           0.07\n",
       "3        YES              YES             167           YES           0.49\n",
       "4         NO              YES             156            NO           0.07\n",
       "5         NO              YES             125            NO           0.07\n",
       "6        YES               NO             168            NO           0.07\n",
       "7        YES              YES             172            NO           0.07"
      ]
     },
     "execution_count": 17,
     "metadata": {},
     "output_type": "execute_result"
    }
   ],
   "source": [
    "df"
   ]
  },
  {
   "cell_type": "markdown",
   "metadata": {},
   "source": [
    "### Creating Second Stump\n",
    "* First step is to generate a new dataset. to do so, we generate a number between 0 and 1 and see where that numbers falls when we use the Sample Weights like a distribution."
   ]
  },
  {
   "cell_type": "code",
   "execution_count": 18,
   "metadata": {},
   "outputs": [],
   "source": [
    "def generate_new_samples(df):\n",
    "    sum_ranges = []\n",
    "    selected_rows = []\n",
    "    generated_numbers = []\n",
    "    for idx, i in enumerate(df.get(\"Sample Weight\")):\n",
    "        sum_ranges.append(round(df.get(\"Sample Weight\")[:idx].sum(), 2))\n",
    "    for i in range(len(df.get(\"Sample Weight\"))):\n",
    "        generated_num = random.random()\n",
    "        generated_numbers.append(generated_num)\n",
    "    \n",
    "    for j in generated_numbers:\n",
    "        for idx, k in enumerate(sum_ranges):\n",
    "            if j < k:\n",
    "                selected_rows.append(df.iloc[idx - 1])\n",
    "                break\n",
    "            \n",
    "    df = pd.DataFrame(columns=df.columns)\n",
    "    \n",
    "    for idx, i in enumerate(selected_rows):\n",
    "        df = pd.DataFrame(np.insert(df.values, idx, list(i), axis=0), columns=df.columns)\n",
    "    df['Sample Weight'] = 1 / len(df.get('Sample Weight'))\n",
    "    return df"
   ]
  },
  {
   "cell_type": "code",
   "execution_count": 19,
   "metadata": {},
   "outputs": [],
   "source": [
    "new_df = generate_new_samples(df)"
   ]
  },
  {
   "cell_type": "code",
   "execution_count": 20,
   "metadata": {},
   "outputs": [
    {
     "data": {
      "text/html": [
       "<div>\n",
       "<style scoped>\n",
       "    .dataframe tbody tr th:only-of-type {\n",
       "        vertical-align: middle;\n",
       "    }\n",
       "\n",
       "    .dataframe tbody tr th {\n",
       "        vertical-align: top;\n",
       "    }\n",
       "\n",
       "    .dataframe thead th {\n",
       "        text-align: right;\n",
       "    }\n",
       "</style>\n",
       "<table border=\"1\" class=\"dataframe\">\n",
       "  <thead>\n",
       "    <tr style=\"text-align: right;\">\n",
       "      <th></th>\n",
       "      <th>Chest Pain</th>\n",
       "      <th>Blocked Arteries</th>\n",
       "      <th>Patient Weight</th>\n",
       "      <th>Heart Disease</th>\n",
       "      <th>Sample Weight</th>\n",
       "    </tr>\n",
       "  </thead>\n",
       "  <tbody>\n",
       "    <tr>\n",
       "      <th>0</th>\n",
       "      <td>YES</td>\n",
       "      <td>YES</td>\n",
       "      <td>205</td>\n",
       "      <td>YES</td>\n",
       "      <td>0.142857</td>\n",
       "    </tr>\n",
       "    <tr>\n",
       "      <th>1</th>\n",
       "      <td>NO</td>\n",
       "      <td>YES</td>\n",
       "      <td>125</td>\n",
       "      <td>NO</td>\n",
       "      <td>0.142857</td>\n",
       "    </tr>\n",
       "    <tr>\n",
       "      <th>2</th>\n",
       "      <td>YES</td>\n",
       "      <td>YES</td>\n",
       "      <td>167</td>\n",
       "      <td>YES</td>\n",
       "      <td>0.142857</td>\n",
       "    </tr>\n",
       "    <tr>\n",
       "      <th>3</th>\n",
       "      <td>YES</td>\n",
       "      <td>YES</td>\n",
       "      <td>167</td>\n",
       "      <td>YES</td>\n",
       "      <td>0.142857</td>\n",
       "    </tr>\n",
       "    <tr>\n",
       "      <th>4</th>\n",
       "      <td>YES</td>\n",
       "      <td>YES</td>\n",
       "      <td>167</td>\n",
       "      <td>YES</td>\n",
       "      <td>0.142857</td>\n",
       "    </tr>\n",
       "    <tr>\n",
       "      <th>5</th>\n",
       "      <td>YES</td>\n",
       "      <td>YES</td>\n",
       "      <td>167</td>\n",
       "      <td>YES</td>\n",
       "      <td>0.142857</td>\n",
       "    </tr>\n",
       "    <tr>\n",
       "      <th>6</th>\n",
       "      <td>NO</td>\n",
       "      <td>YES</td>\n",
       "      <td>125</td>\n",
       "      <td>NO</td>\n",
       "      <td>0.142857</td>\n",
       "    </tr>\n",
       "  </tbody>\n",
       "</table>\n",
       "</div>"
      ],
      "text/plain": [
       "  Chest Pain Blocked Arteries Patient Weight Heart Disease  Sample Weight\n",
       "0        YES              YES            205           YES       0.142857\n",
       "1         NO              YES            125            NO       0.142857\n",
       "2        YES              YES            167           YES       0.142857\n",
       "3        YES              YES            167           YES       0.142857\n",
       "4        YES              YES            167           YES       0.142857\n",
       "5        YES              YES            167           YES       0.142857\n",
       "6         NO              YES            125            NO       0.142857"
      ]
     },
     "execution_count": 20,
     "metadata": {},
     "output_type": "execute_result"
    }
   ],
   "source": [
    "new_df"
   ]
  },
  {
   "cell_type": "markdown",
   "metadata": {},
   "source": [
    "## Choosing Second Stump"
   ]
  },
  {
   "cell_type": "code",
   "execution_count": 21,
   "metadata": {},
   "outputs": [],
   "source": [
    "def create_stump_forest(df, num_stumps):\n",
    "    features_columns = [\"Chest Pain\", \"Blocked Arteries\", \"Patient Weight\"]\n",
    "    forest = []\n",
    "    for t in range(num_stumps):\n",
    "        Gini_indices = []\n",
    "        stumpts_list = []\n",
    "\n",
    "        for col_name in features_columns:\n",
    "            s = Stump(df, col_name)\n",
    "            stumpts_list.append(s)\n",
    "            Gini_index = s.Gini_index\n",
    "            Gini_indices.append(Gini_index)\n",
    "            print(f'STEP {t}: ===> Column \"{col_name}\" has Gini index: {Gini_index}')\n",
    "\n",
    "        min_Gini_index = min(Gini_indices)\n",
    "        min_Gini_index_col_name = features_columns[Gini_indices.index(min_Gini_index)]\n",
    "        print(f\"Minimum Gini index belongs to '{min_Gini_index_col_name}' with index: {min_Gini_index}, So the first stump will be it.\")\n",
    "\n",
    "        chosen_stump = find_chosen_stump(stumpts_list, min_Gini_index_col_name)\n",
    "        chosen_stump.is_chosen_stump = True\n",
    "        print(f\"Chosen stump total error: {chosen_stump.total_error}\")\n",
    "\n",
    "        chosen_stump_impact = chosen_stump.impact\n",
    "        print(f\"Chosen stump impact is: {chosen_stump_impact}\\n\\n\")\n",
    "\n",
    "        chosen_stump.update_stupms_samples_weights()\n",
    "        \n",
    "        forest.append(stump)\n",
    "        \n",
    "        df = generate_new_samples(df)\n",
    "    return forest"
   ]
  },
  {
   "cell_type": "code",
   "execution_count": 28,
   "metadata": {},
   "outputs": [
    {
     "name": "stdout",
     "output_type": "stream",
     "text": [
      "STEP 0: ===> Column \"Chest Pain\" has Gini index: 0.47\n",
      "STEP 0: ===> Column \"Blocked Arteries\" has Gini index: 0.5\n",
      "STEP 0: ===> Column \"Patient Weight\" has Gini index: 0.2\n",
      "Minimum Gini index belongs to 'Patient Weight' with index: 0.2, So the first stump will be it.\n",
      "Chosen stump total error: 0.125\n",
      "Chosen stump impact is: 0.97\n",
      "\n",
      "\n",
      "STEP 1: ===> Column \"Chest Pain\" has Gini index: 0.21\n",
      "STEP 1: ===> Column \"Blocked Arteries\" has Gini index: 0.43\n",
      "STEP 1: ===> Column \"Patient Weight\" has Gini index: 0.38\n",
      "Minimum Gini index belongs to 'Chest Pain' with index: 0.21, So the first stump will be it.\n",
      "Chosen stump total error: 0.14285714285714285\n",
      "Chosen stump impact is: 0.89\n",
      "\n",
      "\n",
      "STEP 2: ===> Column \"Chest Pain\" has Gini index: 0.34\n",
      "STEP 2: ===> Column \"Blocked Arteries\" has Gini index: 0.34\n",
      "STEP 2: ===> Column \"Patient Weight\" has Gini index: 0.38\n",
      "Minimum Gini index belongs to 'Chest Pain' with index: 0.34, So the first stump will be it.\n",
      "Chosen stump total error: 0.2857142857142857\n",
      "Chosen stump impact is: 0.46\n",
      "\n",
      "\n"
     ]
    },
    {
     "name": "stderr",
     "output_type": "stream",
     "text": [
      "/usr/local/lib/python3.6/dist-packages/ipykernel_launcher.py:89: SettingWithCopyWarning: \n",
      "A value is trying to be set on a copy of a slice from a DataFrame\n",
      "\n",
      "See the caveats in the documentation: https://pandas.pydata.org/pandas-docs/stable/user_guide/indexing.html#returning-a-view-versus-a-copy\n",
      "/usr/local/lib/python3.6/dist-packages/ipykernel_launcher.py:86: SettingWithCopyWarning: \n",
      "A value is trying to be set on a copy of a slice from a DataFrame\n",
      "\n",
      "See the caveats in the documentation: https://pandas.pydata.org/pandas-docs/stable/user_guide/indexing.html#returning-a-view-versus-a-copy\n"
     ]
    }
   ],
   "source": [
    "df = pd.read_csv('./dataset/data.csv')\n",
    "default_value = float(1 / len(df.get('Chest Pain')))\n",
    "df.insert(4, \"Sample Weight\", default_value)\n",
    "stump_forest = create_stump_forest(df, 3)"
   ]
  },
  {
   "cell_type": "code",
   "execution_count": 29,
   "metadata": {},
   "outputs": [
    {
     "name": "stdout",
     "output_type": "stream",
     "text": [
      "Patient Weight\n",
      "Patient Weight\n",
      "Patient Weight\n"
     ]
    }
   ],
   "source": [
    "for stump in stump_forest:\n",
    "    print(stump.col_name)"
   ]
  },
  {
   "cell_type": "markdown",
   "metadata": {},
   "source": [
    "### Conclution\n",
    "* As we see the stumps are more likely to choose \"Patients Weight\" feature. It means that the output of classification is more dependent on this feature than others. "
   ]
  },
  {
   "cell_type": "code",
   "execution_count": null,
   "metadata": {},
   "outputs": [],
   "source": []
  }
 ],
 "metadata": {
  "kernelspec": {
   "display_name": "Python 3",
   "language": "python",
   "name": "python3"
  },
  "language_info": {
   "codemirror_mode": {
    "name": "ipython",
    "version": 3
   },
   "file_extension": ".py",
   "mimetype": "text/x-python",
   "name": "python",
   "nbconvert_exporter": "python",
   "pygments_lexer": "ipython3",
   "version": "3.6.9"
  }
 },
 "nbformat": 4,
 "nbformat_minor": 4
}
